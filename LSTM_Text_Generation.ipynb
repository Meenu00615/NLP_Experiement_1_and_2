{
  "nbformat": 4,
  "nbformat_minor": 0,
  "metadata": {
    "colab": {
      "provenance": []
    },
    "kernelspec": {
      "name": "python3",
      "display_name": "Python 3"
    },
    "language_info": {
      "name": "python"
    }
  },
  "cells": [
    {
      "cell_type": "code",
      "source": [
        "import numpy as np\n",
        "import pandas as pd\n",
        "import matplotlib.pyplot as plt\n",
        "import tensorflow as tf\n",
        "import string\n",
        "%matplotlib inline\n"
      ],
      "metadata": {
        "id": "iOnd9T2GPPeJ"
      },
      "execution_count": 4,
      "outputs": []
    },
    {
      "cell_type": "code",
      "source": [
        "!wget -N \"https://cainvas-static.s3.amazonaws.com/media/user_data/cainvas-admin/Speech.txt\"\n",
        "text = \"\"\n",
        "with open('Speech.txt', 'r') as f:\n",
        "    text = f.read()\n",
        "print(text)"
      ],
      "metadata": {
        "colab": {
          "base_uri": "https://localhost:8080/"
        },
        "id": "0duiUroIPR2X",
        "outputId": "b42d3641-3fd0-440a-ec97-d87f15e3b509"
      },
      "execution_count": 5,
      "outputs": [
        {
          "output_type": "stream",
          "name": "stdout",
          "text": [
            "--2024-04-21 10:39:23--  https://cainvas-static.s3.amazonaws.com/media/user_data/cainvas-admin/Speech.txt\n",
            "Resolving cainvas-static.s3.amazonaws.com (cainvas-static.s3.amazonaws.com)... 16.12.36.59, 16.12.36.127, 52.219.156.211, ...\n",
            "Connecting to cainvas-static.s3.amazonaws.com (cainvas-static.s3.amazonaws.com)|16.12.36.59|:443... connected.\n",
            "HTTP request sent, awaiting response... 200 OK\n",
            "Length: 6420 (6.3K) [text/plain]\n",
            "Saving to: ‘Speech.txt’\n",
            "\n",
            "Speech.txt          100%[===================>]   6.27K  --.-KB/s    in 0s      \n",
            "\n",
            "2024-04-21 10:39:24 (75.8 MB/s) - ‘Speech.txt’ saved [6420/6420]\n",
            "\n",
            "“ Good afternoon, and thank you and, wow. I am so privileged and so honored to be sharing this afternoon with all of you and these incredibly amazing women that are being honored today.\n",
            "I’d like to extend my congratulations to each one of you, Octavia, Michelle, Kelly, Patty, and all fifty women that have been included in the impact report.\n",
            "Your achievements not just inspire me but also so many others to work harder to be better and to make a dent wherever we can.\n",
            "So, I’m very, very proud to be standing alongside you.\n",
            "So, in life you know there are moments when you stop and ask yourself: “How did I get here?”\n",
            "Like: “Why am I standing here?”\n",
            "Well, this is definitely one of those moments for me and I find myself going back to the beginning, back to my roots.\n",
            "I was born to incredible parents, amazing parents who served as doctors in the Indian Army.\n",
            "I was the first born and as far back as I can remember I made my parents very proud and happy 99% of the time.\n",
            "Okay, slight exaggerations of personal achievements are allowed from time to time, don’t you think?\n",
            "My brother was born a few years later and even then, nothing changed for me.\n",
            "We were both given equal opportunities, and I want to emphasize this, I want to really emphasize this for you because I don’t think a lot of people might understand that being equal might seem very normal but where I come from India and a lot of developing countries around the world more of not this is an exception.\n",
            "It’s actually a privilege.\n",
            "My first experience of the glaring disparity between boys and girls came at a very, very young age.\n",
            "I grew up in a middle-class family with extremely philanthropic parents who constantly reminded me and my brother how lucky we were and how giving back to those who were less fortunate was not a choice it was a way of life.\n",
            "Simple.\n",
            "I was seven or eight years old when my parents started taking me on these visits in a traveling clinic to developing communities around and villages around the city that we lived in called Bareilly.\n",
            "We were packed into this ambulance and would my parents would provide free medical care to people who couldn’t afford it.\n",
            "My job at the age of eight was an assistant pharmacist.\n",
            "I would count all the medicines put them in an envelope and give it out to patients, and I really took my job very seriously, very seriously.\n",
            "But the more I went on these expeditions, the more I began to notice the simplest things that distinguished a boy from a girl or a man from a woman.\n",
            "For example, girls were pulled out of school when they hit puberty because they were considered ready for marriage and babies.\n",
            "That’s 12 and 13 while boys still enjoyed their childhood.\n",
            "Or basic human rights such as health care were denied just because they were women.\n",
            "Let this, let’s call this whole experience trigger number one for me.\n",
            "Fast-forward a few years and many, many triggers in between.\n",
            "Like a producer-director for example early on in my career, I must have been about 18 or 19, telling me that if I didn’t agree to the ridiculous terms or painfully low salary in his movie that he would just replace me because girls are replaceable in the entertainment business.\n",
            "That was a memorable one.\n",
            "Made me decide to make myself irreplaceable.\n",
            "But I think what really moved the needle for me and ultimately led me to create the Priyanka Chopra foundation for health and education and around the same time partner with UNICEF was an encounter with my housekeeper’s daughter.\n",
            "About 12 years ago I came home from set early one day and she was sitting in my library reading a book and she must have been eight or nine years old and I knew she loved reading.\n",
            "So, I asked her, I was like, this is, I mean, it’s a weekday why aren’t you in school?\n",
            "And she said: “Oh, I don’t go to school anymore.”\n",
            "So, I went and asked her mother and I said, you know: “Why isn’t she in school?”\n",
            "And her mom said that her family couldn’t afford to send her and her brother’s to school, so they chose the boys.\n",
            "The reason, she would eventually get married and it would be a waste of money.\n",
            "I was completely blown, and it shook me to my core.\n",
            "Eventually, I decided to cover the cost of her education so that she could continue to learn because education is a basic human right.\n",
            "And a huge necessity especially today.\n",
            "From that point on I was determined to make a difference and as many children’s lives as I could.\n",
            "In whatever big or small way that I could contribute.\n",
            "There’s a really, really beautiful quote that I read recently, and I think it’s absolutely appropriate to say, to explain what I’m trying to say today.\n",
            "“The hand that rocks the cradle, the procreator, the mother of tomorrow; a woman shapes the destiny of civilization. Such is the tragic irony of fate, that a beautiful creation such as a girl child is today one of the gravest concerns facing humanity.”\n",
            "Girls have the power to change the world.\n",
            "It is a fact and yet today girls are more likely than boys never to set foot in a classroom.\n",
            "Despite all the efforts and progress made over the last two decades. More than, I’m just gonna give you a stat, more than 15 million girls of primary school age will never learn how to read or write compared to 10 million boys.\n",
            "Primary school it’s the beginning of our future.\n",
            "Over the last 11 years, I have witnessed firsthand the incredible work that UNICEF does for children around the world. Especially victims and survivors of child marriage, displacement, war, sexual violence.\n",
            "But there is still so much work to do.\n",
            "And for me, that is the fuel to my fire.\n",
            "The reason I’m so committed to this cause and that is where my passion stems from because I know that a girl’s education not just empowers families but communities and economies.\n",
            "A result of her education we all do better. It’s just as simple as that.\n",
            "As entertainers and influencers sitting in this room I feel that is our social responsibility to be a voice for the voiceless, which is why I applaud each and every woman in this room for being such a badass.\n",
            "For using your platform and your voice to contribute to change and for ensuring that there is not even one lost generation as long as we are alive.\n",
            "I’d like to thank variety and all of you for encouraging me and all of us in this room to keep going and fighting on.\n",
            "Thank you so much.\n"
          ]
        }
      ]
    },
    {
      "cell_type": "code",
      "source": [
        "data = text.split(\"\\n\")\n",
        "data[:6]\n"
      ],
      "metadata": {
        "colab": {
          "base_uri": "https://localhost:8080/"
        },
        "id": "FCKq2FCePUy9",
        "outputId": "c1c95366-d774-4062-a9ef-59f4f075ea5a"
      },
      "execution_count": 6,
      "outputs": [
        {
          "output_type": "execute_result",
          "data": {
            "text/plain": [
              "['“ Good afternoon, and thank you and, wow. I am so privileged and so honored to be sharing this afternoon with all of you and these incredibly amazing women that are being honored today.',\n",
              " 'I’d like to extend my congratulations to each one of you, Octavia, Michelle, Kelly, Patty, and all fifty women that have been included in the impact report.',\n",
              " 'Your achievements not just inspire me but also so many others to work harder to be better and to make a dent wherever we can.',\n",
              " 'So, I’m very, very proud to be standing alongside you.',\n",
              " 'So, in life you know there are moments when you stop and ask yourself: “How did I get here?”',\n",
              " 'Like: “Why am I standing here?”']"
            ]
          },
          "metadata": {},
          "execution_count": 6
        }
      ]
    },
    {
      "cell_type": "code",
      "source": [
        "print(\"Total lines:\",len(data))\n"
      ],
      "metadata": {
        "colab": {
          "base_uri": "https://localhost:8080/"
        },
        "id": "g7nv65MnPb1p",
        "outputId": "0710ebd4-fe38-4691-c7fe-78addc6fbfed"
      },
      "execution_count": 7,
      "outputs": [
        {
          "output_type": "stream",
          "name": "stdout",
          "text": [
            "Total lines: 56\n"
          ]
        }
      ]
    },
    {
      "cell_type": "code",
      "source": [
        "data = \" \".join(data)\n",
        "data[:20]"
      ],
      "metadata": {
        "colab": {
          "base_uri": "https://localhost:8080/",
          "height": 35
        },
        "id": "GBr6Wz-9Pei6",
        "outputId": "138cfe22-e84f-45d7-e078-61ae25840199"
      },
      "execution_count": 8,
      "outputs": [
        {
          "output_type": "execute_result",
          "data": {
            "text/plain": [
              "'“ Good afternoon, an'"
            ],
            "application/vnd.google.colaboratory.intrinsic+json": {
              "type": "string"
            }
          },
          "metadata": {},
          "execution_count": 8
        }
      ]
    },
    {
      "cell_type": "code",
      "source": [
        "def clean(doc):\n",
        "    tokens = doc.split()\n",
        "    table = str.maketrans(\"\",\"\",string.punctuation)\n",
        "    tokens = [w.translate(table) for w in tokens]\n",
        "    tokens = [word for word in tokens if word.isalpha()]\n",
        "    tokens = [word.lower() for word in tokens]\n",
        "    return tokens\n"
      ],
      "metadata": {
        "id": "ttc7n8orPfd6"
      },
      "execution_count": 9,
      "outputs": []
    },
    {
      "cell_type": "code",
      "source": [
        "tokens = clean(data)\n"
      ],
      "metadata": {
        "id": "Y4pZ2imwPjXr"
      },
      "execution_count": 10,
      "outputs": []
    },
    {
      "cell_type": "code",
      "source": [
        "length = 50 + 1\n",
        "lines = []\n",
        "for i in range(length,len(tokens)):\n",
        "    sequence = tokens[i-length:i]\n",
        "    line = \" \".join(sequence)\n",
        "    lines.append(line)\n",
        "print(len(lines))\n",
        "print(lines[:6])"
      ],
      "metadata": {
        "colab": {
          "base_uri": "https://localhost:8080/"
        },
        "id": "IIguw3b5Pk5Y",
        "outputId": "a91c10c6-a87a-4a5d-81e2-45cbef315feb"
      },
      "execution_count": 11,
      "outputs": [
        {
          "output_type": "stream",
          "name": "stdout",
          "text": [
            "1067\n",
            "['good afternoon and thank you and wow i am so privileged and so honored to be sharing this afternoon with all of you and these incredibly amazing women that are being honored today like to extend my congratulations to each one of you octavia michelle kelly patty and all fifty women', 'afternoon and thank you and wow i am so privileged and so honored to be sharing this afternoon with all of you and these incredibly amazing women that are being honored today like to extend my congratulations to each one of you octavia michelle kelly patty and all fifty women that', 'and thank you and wow i am so privileged and so honored to be sharing this afternoon with all of you and these incredibly amazing women that are being honored today like to extend my congratulations to each one of you octavia michelle kelly patty and all fifty women that have', 'thank you and wow i am so privileged and so honored to be sharing this afternoon with all of you and these incredibly amazing women that are being honored today like to extend my congratulations to each one of you octavia michelle kelly patty and all fifty women that have been', 'you and wow i am so privileged and so honored to be sharing this afternoon with all of you and these incredibly amazing women that are being honored today like to extend my congratulations to each one of you octavia michelle kelly patty and all fifty women that have been included', 'and wow i am so privileged and so honored to be sharing this afternoon with all of you and these incredibly amazing women that are being honored today like to extend my congratulations to each one of you octavia michelle kelly patty and all fifty women that have been included in']\n"
          ]
        }
      ]
    },
    {
      "cell_type": "code",
      "source": [
        "print(\"First line:\",lines[0])\n",
        "print(\"First token:\",tokens[0])"
      ],
      "metadata": {
        "colab": {
          "base_uri": "https://localhost:8080/"
        },
        "id": "IDo1UPDQPqRL",
        "outputId": "c9942cd4-a877-442b-ad14-08312ae5826e"
      },
      "execution_count": 12,
      "outputs": [
        {
          "output_type": "stream",
          "name": "stdout",
          "text": [
            "First line: good afternoon and thank you and wow i am so privileged and so honored to be sharing this afternoon with all of you and these incredibly amazing women that are being honored today like to extend my congratulations to each one of you octavia michelle kelly patty and all fifty women\n",
            "First token: good\n"
          ]
        }
      ]
    },
    {
      "cell_type": "code",
      "source": [
        "from tensorflow.keras.preprocessing.text import Tokenizer\n",
        "from tensorflow.keras.utils import to_categorical\n",
        "from tensorflow.keras.models import Sequential\n",
        "from tensorflow.keras.layers import Dense,LSTM,Embedding\n",
        "from tensorflow.keras.preprocessing.sequence import pad_sequences\n",
        "from tensorflow.keras.models import load_model"
      ],
      "metadata": {
        "id": "sPzSxa4HPtm7"
      },
      "execution_count": 13,
      "outputs": []
    },
    {
      "cell_type": "code",
      "source": [
        "tokenizer = Tokenizer()\n",
        "tokenizer.fit_on_texts(lines)"
      ],
      "metadata": {
        "id": "xywpqg0HPtYp"
      },
      "execution_count": 14,
      "outputs": []
    },
    {
      "cell_type": "code",
      "source": [
        "sequences = tokenizer.texts_to_sequences(lines)\n",
        "sequences = np.array(sequences)"
      ],
      "metadata": {
        "id": "TAkYw7_vP0YZ"
      },
      "execution_count": 16,
      "outputs": []
    },
    {
      "cell_type": "code",
      "source": [
        "X, y = sequences[:,:-1],sequences[:,-1]"
      ],
      "metadata": {
        "id": "Ef0vJiAWP280"
      },
      "execution_count": 17,
      "outputs": []
    },
    {
      "cell_type": "code",
      "source": [
        "print(X[0])\n",
        "print(y[0])"
      ],
      "metadata": {
        "colab": {
          "base_uri": "https://localhost:8080/"
        },
        "id": "S27OZZtJPtTX",
        "outputId": "899e5df7-19a8-469e-cd77-95a9bf2a1b53"
      },
      "execution_count": 18,
      "outputs": [
        {
          "output_type": "stream",
          "name": "stdout",
          "text": [
            "[434 426   1 421  16   1 432   3 156  17 430   1  17 412   2  45 428  14\n",
            " 426  56  37   6  16   1  76 424 155  75   7  36  74 412  44  46   2 418\n",
            "   9 417   2 153  25   6  16 415 414 413 411   1  37 410]\n",
            "75\n"
          ]
        }
      ]
    },
    {
      "cell_type": "code",
      "source": [
        "vocab_size  = len(tokenizer.word_index) + 1\n"
      ],
      "metadata": {
        "id": "sfgo7dNHP71k"
      },
      "execution_count": 19,
      "outputs": []
    },
    {
      "cell_type": "code",
      "source": [
        "y = to_categorical(y,num_classes = vocab_size)\n"
      ],
      "metadata": {
        "id": "gelrd8UhP9a_"
      },
      "execution_count": 20,
      "outputs": []
    },
    {
      "cell_type": "code",
      "source": [
        "model = Sequential()\n",
        "model.add(Embedding(vocab_size,50,input_length = 50))\n",
        "model.add(LSTM(100, return_sequences = True))\n",
        "model.add(LSTM(100))\n",
        "model.add(Dense(100,activation = \"relu\"))\n",
        "model.add(Dense(vocab_size,activation = \"softmax\"))\n",
        "model.summary()"
      ],
      "metadata": {
        "colab": {
          "base_uri": "https://localhost:8080/"
        },
        "id": "MA4OQ1XNP_xo",
        "outputId": "8efe2854-5aa0-4b76-8630-9fb3c2fb8afa"
      },
      "execution_count": 21,
      "outputs": [
        {
          "output_type": "stream",
          "name": "stdout",
          "text": [
            "Model: \"sequential\"\n",
            "_________________________________________________________________\n",
            " Layer (type)                Output Shape              Param #   \n",
            "=================================================================\n",
            " embedding (Embedding)       (None, 50, 50)            21750     \n",
            "                                                                 \n",
            " lstm (LSTM)                 (None, 50, 100)           60400     \n",
            "                                                                 \n",
            " lstm_1 (LSTM)               (None, 100)               80400     \n",
            "                                                                 \n",
            " dense (Dense)               (None, 100)               10100     \n",
            "                                                                 \n",
            " dense_1 (Dense)             (None, 435)               43935     \n",
            "                                                                 \n",
            "=================================================================\n",
            "Total params: 216585 (846.04 KB)\n",
            "Trainable params: 216585 (846.04 KB)\n",
            "Non-trainable params: 0 (0.00 Byte)\n",
            "_________________________________________________________________\n"
          ]
        }
      ]
    },
    {
      "cell_type": "code",
      "source": [
        "model.compile(optimizer =\"adam\" , loss =\"categorical_crossentropy\"  ,metrics = [\"accuracy\"])"
      ],
      "metadata": {
        "id": "qvfaCzUHQBTq"
      },
      "execution_count": 22,
      "outputs": []
    },
    {
      "cell_type": "code",
      "source": [
        "record = model.fit(X,y, epochs = 150)"
      ],
      "metadata": {
        "colab": {
          "base_uri": "https://localhost:8080/"
        },
        "id": "QmxMLBJgQBRl",
        "outputId": "9f480bfa-a3da-46ca-9068-e6d7e186a03a"
      },
      "execution_count": 23,
      "outputs": [
        {
          "output_type": "stream",
          "name": "stdout",
          "text": [
            "Epoch 1/150\n",
            "34/34 [==============================] - 7s 78ms/step - loss: 5.9435 - accuracy: 0.0066\n",
            "Epoch 2/150\n",
            "34/34 [==============================] - 4s 115ms/step - loss: 5.5264 - accuracy: 0.0375\n",
            "Epoch 3/150\n",
            "34/34 [==============================] - 5s 161ms/step - loss: 5.4279 - accuracy: 0.0328\n",
            "Epoch 4/150\n",
            "34/34 [==============================] - 3s 88ms/step - loss: 5.4015 - accuracy: 0.0440\n",
            "Epoch 5/150\n",
            "34/34 [==============================] - 6s 181ms/step - loss: 5.3973 - accuracy: 0.0337\n",
            "Epoch 6/150\n",
            "34/34 [==============================] - 3s 76ms/step - loss: 5.3863 - accuracy: 0.0440\n",
            "Epoch 7/150\n",
            "34/34 [==============================] - 3s 76ms/step - loss: 5.3721 - accuracy: 0.0384\n",
            "Epoch 8/150\n",
            "34/34 [==============================] - 3s 89ms/step - loss: 5.3354 - accuracy: 0.0440\n",
            "Epoch 9/150\n",
            "34/34 [==============================] - 3s 88ms/step - loss: 5.2182 - accuracy: 0.0319\n",
            "Epoch 10/150\n",
            "34/34 [==============================] - 3s 76ms/step - loss: 5.1111 - accuracy: 0.0440\n",
            "Epoch 11/150\n",
            "34/34 [==============================] - 3s 76ms/step - loss: 5.0363 - accuracy: 0.0356\n",
            "Epoch 12/150\n",
            "34/34 [==============================] - 3s 74ms/step - loss: 4.9753 - accuracy: 0.0572\n",
            "Epoch 13/150\n",
            "34/34 [==============================] - 3s 102ms/step - loss: 4.8734 - accuracy: 0.0544\n",
            "Epoch 14/150\n",
            "34/34 [==============================] - 3s 76ms/step - loss: 4.7742 - accuracy: 0.0581\n",
            "Epoch 15/150\n",
            "34/34 [==============================] - 3s 76ms/step - loss: 4.6705 - accuracy: 0.0675\n",
            "Epoch 16/150\n",
            "34/34 [==============================] - 3s 74ms/step - loss: 4.5591 - accuracy: 0.0684\n",
            "Epoch 17/150\n",
            "34/34 [==============================] - 4s 104ms/step - loss: 4.4475 - accuracy: 0.0750\n",
            "Epoch 18/150\n",
            "34/34 [==============================] - 4s 117ms/step - loss: 4.3361 - accuracy: 0.0769\n",
            "Epoch 19/150\n",
            "34/34 [==============================] - 3s 75ms/step - loss: 4.2330 - accuracy: 0.0872\n",
            "Epoch 20/150\n",
            "34/34 [==============================] - 3s 75ms/step - loss: 4.1384 - accuracy: 0.0862\n",
            "Epoch 21/150\n",
            "34/34 [==============================] - 3s 75ms/step - loss: 4.0576 - accuracy: 0.0965\n",
            "Epoch 22/150\n",
            "34/34 [==============================] - 3s 93ms/step - loss: 3.9741 - accuracy: 0.1050\n",
            "Epoch 23/150\n",
            "34/34 [==============================] - 4s 132ms/step - loss: 3.8780 - accuracy: 0.1143\n",
            "Epoch 24/150\n",
            "34/34 [==============================] - 3s 75ms/step - loss: 3.7981 - accuracy: 0.1087\n",
            "Epoch 25/150\n",
            "34/34 [==============================] - 3s 80ms/step - loss: 3.7286 - accuracy: 0.1125\n",
            "Epoch 26/150\n",
            "34/34 [==============================] - 5s 142ms/step - loss: 3.6612 - accuracy: 0.1153\n",
            "Epoch 27/150\n",
            "34/34 [==============================] - 3s 95ms/step - loss: 3.5782 - accuracy: 0.1331\n",
            "Epoch 28/150\n",
            "34/34 [==============================] - 3s 76ms/step - loss: 3.5153 - accuracy: 0.1321\n",
            "Epoch 29/150\n",
            "34/34 [==============================] - 3s 75ms/step - loss: 3.4615 - accuracy: 0.1406\n",
            "Epoch 30/150\n",
            "34/34 [==============================] - 4s 122ms/step - loss: 3.4035 - accuracy: 0.1406\n",
            "Epoch 31/150\n",
            "34/34 [==============================] - 3s 86ms/step - loss: 3.3240 - accuracy: 0.1481\n",
            "Epoch 32/150\n",
            "34/34 [==============================] - 3s 74ms/step - loss: 3.2402 - accuracy: 0.1706\n",
            "Epoch 33/150\n",
            "34/34 [==============================] - 3s 76ms/step - loss: 3.1944 - accuracy: 0.1640\n",
            "Epoch 34/150\n",
            "34/34 [==============================] - 3s 93ms/step - loss: 3.1299 - accuracy: 0.1762\n",
            "Epoch 35/150\n",
            "34/34 [==============================] - 3s 85ms/step - loss: 3.0846 - accuracy: 0.1846\n",
            "Epoch 36/150\n",
            "34/34 [==============================] - 3s 76ms/step - loss: 3.0113 - accuracy: 0.1818\n",
            "Epoch 37/150\n",
            "34/34 [==============================] - 3s 76ms/step - loss: 2.9778 - accuracy: 0.1856\n",
            "Epoch 38/150\n",
            "34/34 [==============================] - 3s 93ms/step - loss: 2.9242 - accuracy: 0.1940\n",
            "Epoch 39/150\n",
            "34/34 [==============================] - 3s 99ms/step - loss: 2.8773 - accuracy: 0.2137\n",
            "Epoch 40/150\n",
            "34/34 [==============================] - 3s 76ms/step - loss: 2.8252 - accuracy: 0.2137\n",
            "Epoch 41/150\n",
            "34/34 [==============================] - 3s 80ms/step - loss: 2.7584 - accuracy: 0.2240\n",
            "Epoch 42/150\n",
            "34/34 [==============================] - 3s 75ms/step - loss: 2.7116 - accuracy: 0.2315\n",
            "Epoch 43/150\n",
            "34/34 [==============================] - 3s 103ms/step - loss: 2.6593 - accuracy: 0.2512\n",
            "Epoch 44/150\n",
            "34/34 [==============================] - 3s 76ms/step - loss: 2.6280 - accuracy: 0.2718\n",
            "Epoch 45/150\n",
            "34/34 [==============================] - 3s 76ms/step - loss: 2.5576 - accuracy: 0.2868\n",
            "Epoch 46/150\n",
            "34/34 [==============================] - 3s 75ms/step - loss: 2.5014 - accuracy: 0.2868\n",
            "Epoch 47/150\n",
            "34/34 [==============================] - 3s 81ms/step - loss: 2.4547 - accuracy: 0.3102\n",
            "Epoch 48/150\n",
            "34/34 [==============================] - 3s 97ms/step - loss: 2.3916 - accuracy: 0.3496\n",
            "Epoch 49/150\n",
            "34/34 [==============================] - 3s 75ms/step - loss: 2.3561 - accuracy: 0.3280\n",
            "Epoch 50/150\n",
            "34/34 [==============================] - 3s 77ms/step - loss: 2.2885 - accuracy: 0.3571\n",
            "Epoch 51/150\n",
            "34/34 [==============================] - 3s 76ms/step - loss: 2.2030 - accuracy: 0.3861\n",
            "Epoch 52/150\n",
            "34/34 [==============================] - 3s 100ms/step - loss: 2.1676 - accuracy: 0.3880\n",
            "Epoch 53/150\n",
            "34/34 [==============================] - 3s 78ms/step - loss: 2.1352 - accuracy: 0.4077\n",
            "Epoch 54/150\n",
            "34/34 [==============================] - 3s 77ms/step - loss: 2.0835 - accuracy: 0.4236\n",
            "Epoch 55/150\n",
            "34/34 [==============================] - 3s 76ms/step - loss: 2.0409 - accuracy: 0.4161\n",
            "Epoch 56/150\n",
            "34/34 [==============================] - 3s 80ms/step - loss: 1.9799 - accuracy: 0.4321\n",
            "Epoch 57/150\n",
            "34/34 [==============================] - 3s 99ms/step - loss: 1.9244 - accuracy: 0.4677\n",
            "Epoch 58/150\n",
            "34/34 [==============================] - 3s 76ms/step - loss: 1.8570 - accuracy: 0.4677\n",
            "Epoch 59/150\n",
            "34/34 [==============================] - 3s 76ms/step - loss: 1.8090 - accuracy: 0.5117\n",
            "Epoch 60/150\n",
            "34/34 [==============================] - 3s 76ms/step - loss: 1.7797 - accuracy: 0.5061\n",
            "Epoch 61/150\n",
            "34/34 [==============================] - 3s 101ms/step - loss: 1.7283 - accuracy: 0.5173\n",
            "Epoch 62/150\n",
            "34/34 [==============================] - 3s 78ms/step - loss: 1.6796 - accuracy: 0.5314\n",
            "Epoch 63/150\n",
            "34/34 [==============================] - 3s 76ms/step - loss: 1.6134 - accuracy: 0.5576\n",
            "Epoch 64/150\n",
            "34/34 [==============================] - 3s 75ms/step - loss: 1.5870 - accuracy: 0.5586\n",
            "Epoch 65/150\n",
            "34/34 [==============================] - 3s 79ms/step - loss: 1.5280 - accuracy: 0.5989\n",
            "Epoch 66/150\n",
            "34/34 [==============================] - 3s 99ms/step - loss: 1.4871 - accuracy: 0.6101\n",
            "Epoch 67/150\n",
            "34/34 [==============================] - 3s 76ms/step - loss: 1.4366 - accuracy: 0.6270\n",
            "Epoch 68/150\n",
            "34/34 [==============================] - 3s 75ms/step - loss: 1.3999 - accuracy: 0.6298\n",
            "Epoch 69/150\n",
            "34/34 [==============================] - 3s 76ms/step - loss: 1.3570 - accuracy: 0.6373\n",
            "Epoch 70/150\n",
            "34/34 [==============================] - 3s 99ms/step - loss: 1.2820 - accuracy: 0.6729\n",
            "Epoch 71/150\n",
            "34/34 [==============================] - 3s 79ms/step - loss: 1.2448 - accuracy: 0.6851\n",
            "Epoch 72/150\n",
            "34/34 [==============================] - 3s 76ms/step - loss: 1.2075 - accuracy: 0.6701\n",
            "Epoch 73/150\n",
            "34/34 [==============================] - 3s 77ms/step - loss: 1.1645 - accuracy: 0.7029\n",
            "Epoch 74/150\n",
            "34/34 [==============================] - 3s 78ms/step - loss: 1.1315 - accuracy: 0.7151\n",
            "Epoch 75/150\n",
            "34/34 [==============================] - 3s 100ms/step - loss: 1.0863 - accuracy: 0.7067\n",
            "Epoch 76/150\n",
            "34/34 [==============================] - 3s 87ms/step - loss: 1.0558 - accuracy: 0.7470\n",
            "Epoch 77/150\n",
            "34/34 [==============================] - 3s 78ms/step - loss: 1.0105 - accuracy: 0.7563\n",
            "Epoch 78/150\n",
            "34/34 [==============================] - 3s 75ms/step - loss: 0.9690 - accuracy: 0.7610\n",
            "Epoch 79/150\n",
            "34/34 [==============================] - 3s 103ms/step - loss: 0.9597 - accuracy: 0.7685\n",
            "Epoch 80/150\n",
            "34/34 [==============================] - 3s 75ms/step - loss: 0.9023 - accuracy: 0.7919\n",
            "Epoch 81/150\n",
            "34/34 [==============================] - 3s 76ms/step - loss: 0.8707 - accuracy: 0.7957\n",
            "Epoch 82/150\n",
            "34/34 [==============================] - 4s 112ms/step - loss: 0.8217 - accuracy: 0.8191\n",
            "Epoch 83/150\n",
            "34/34 [==============================] - 4s 103ms/step - loss: 0.8078 - accuracy: 0.8135\n",
            "Epoch 84/150\n",
            "34/34 [==============================] - 3s 76ms/step - loss: 0.7745 - accuracy: 0.8191\n",
            "Epoch 85/150\n",
            "34/34 [==============================] - 3s 76ms/step - loss: 0.7353 - accuracy: 0.8304\n",
            "Epoch 86/150\n",
            "34/34 [==============================] - 3s 77ms/step - loss: 0.6980 - accuracy: 0.8407\n",
            "Epoch 87/150\n",
            "34/34 [==============================] - 3s 84ms/step - loss: 0.6587 - accuracy: 0.8660\n",
            "Epoch 88/150\n",
            "34/34 [==============================] - 3s 94ms/step - loss: 0.6267 - accuracy: 0.8669\n",
            "Epoch 89/150\n",
            "34/34 [==============================] - 3s 76ms/step - loss: 0.5931 - accuracy: 0.8810\n",
            "Epoch 90/150\n",
            "34/34 [==============================] - 3s 77ms/step - loss: 0.5757 - accuracy: 0.8857\n",
            "Epoch 91/150\n",
            "34/34 [==============================] - 3s 76ms/step - loss: 0.5489 - accuracy: 0.9016\n",
            "Epoch 92/150\n",
            "34/34 [==============================] - 3s 103ms/step - loss: 0.5273 - accuracy: 0.9007\n",
            "Epoch 93/150\n",
            "34/34 [==============================] - 3s 76ms/step - loss: 0.4860 - accuracy: 0.9175\n",
            "Epoch 94/150\n",
            "34/34 [==============================] - 3s 77ms/step - loss: 0.4845 - accuracy: 0.9147\n",
            "Epoch 95/150\n",
            "34/34 [==============================] - 3s 75ms/step - loss: 0.4718 - accuracy: 0.9194\n",
            "Epoch 96/150\n",
            "34/34 [==============================] - 3s 83ms/step - loss: 0.4503 - accuracy: 0.9222\n",
            "Epoch 97/150\n",
            "34/34 [==============================] - 3s 96ms/step - loss: 0.4240 - accuracy: 0.9297\n",
            "Epoch 98/150\n",
            "34/34 [==============================] - 3s 76ms/step - loss: 0.3970 - accuracy: 0.9410\n",
            "Epoch 99/150\n",
            "34/34 [==============================] - 3s 77ms/step - loss: 0.3735 - accuracy: 0.9419\n",
            "Epoch 100/150\n",
            "34/34 [==============================] - 3s 76ms/step - loss: 0.3522 - accuracy: 0.9485\n",
            "Epoch 101/150\n",
            "34/34 [==============================] - 3s 103ms/step - loss: 0.3307 - accuracy: 0.9522\n",
            "Epoch 102/150\n",
            "34/34 [==============================] - 3s 75ms/step - loss: 0.3141 - accuracy: 0.9691\n",
            "Epoch 103/150\n",
            "34/34 [==============================] - 3s 75ms/step - loss: 0.2979 - accuracy: 0.9616\n",
            "Epoch 104/150\n",
            "34/34 [==============================] - 3s 77ms/step - loss: 0.2822 - accuracy: 0.9672\n",
            "Epoch 105/150\n",
            "34/34 [==============================] - 3s 81ms/step - loss: 0.2746 - accuracy: 0.9719\n",
            "Epoch 106/150\n",
            "34/34 [==============================] - 3s 96ms/step - loss: 0.2597 - accuracy: 0.9709\n",
            "Epoch 107/150\n",
            "34/34 [==============================] - 3s 75ms/step - loss: 0.2424 - accuracy: 0.9794\n",
            "Epoch 108/150\n",
            "34/34 [==============================] - 3s 74ms/step - loss: 0.2245 - accuracy: 0.9784\n",
            "Epoch 109/150\n",
            "34/34 [==============================] - 3s 75ms/step - loss: 0.2169 - accuracy: 0.9775\n",
            "Epoch 110/150\n",
            "34/34 [==============================] - 3s 97ms/step - loss: 0.2073 - accuracy: 0.9822\n",
            "Epoch 111/150\n",
            "34/34 [==============================] - 3s 79ms/step - loss: 0.2048 - accuracy: 0.9803\n",
            "Epoch 112/150\n",
            "34/34 [==============================] - 3s 74ms/step - loss: 0.1906 - accuracy: 0.9906\n",
            "Epoch 113/150\n",
            "34/34 [==============================] - 3s 76ms/step - loss: 0.1740 - accuracy: 0.9878\n",
            "Epoch 114/150\n",
            "34/34 [==============================] - 3s 75ms/step - loss: 0.1598 - accuracy: 0.9925\n",
            "Epoch 115/150\n",
            "34/34 [==============================] - 3s 101ms/step - loss: 0.1570 - accuracy: 0.9906\n",
            "Epoch 116/150\n",
            "34/34 [==============================] - 3s 76ms/step - loss: 0.1491 - accuracy: 0.9897\n",
            "Epoch 117/150\n",
            "34/34 [==============================] - 3s 75ms/step - loss: 0.1393 - accuracy: 0.9934\n",
            "Epoch 118/150\n",
            "34/34 [==============================] - 3s 74ms/step - loss: 0.1307 - accuracy: 0.9916\n",
            "Epoch 119/150\n",
            "34/34 [==============================] - 3s 91ms/step - loss: 0.1246 - accuracy: 0.9991\n",
            "Epoch 120/150\n",
            "34/34 [==============================] - 3s 86ms/step - loss: 0.1235 - accuracy: 0.9916\n",
            "Epoch 121/150\n",
            "34/34 [==============================] - 3s 76ms/step - loss: 0.1180 - accuracy: 0.9953\n",
            "Epoch 122/150\n",
            "34/34 [==============================] - 3s 75ms/step - loss: 0.1108 - accuracy: 0.9972\n",
            "Epoch 123/150\n",
            "34/34 [==============================] - 3s 75ms/step - loss: 0.1025 - accuracy: 0.9972\n",
            "Epoch 124/150\n",
            "34/34 [==============================] - 3s 102ms/step - loss: 0.0960 - accuracy: 0.9972\n",
            "Epoch 125/150\n",
            "34/34 [==============================] - 3s 76ms/step - loss: 0.0943 - accuracy: 0.9963\n",
            "Epoch 126/150\n",
            "34/34 [==============================] - 3s 76ms/step - loss: 0.0871 - accuracy: 0.9991\n",
            "Epoch 127/150\n",
            "34/34 [==============================] - 3s 75ms/step - loss: 0.0798 - accuracy: 0.9991\n",
            "Epoch 128/150\n",
            "34/34 [==============================] - 3s 89ms/step - loss: 0.0774 - accuracy: 0.9981\n",
            "Epoch 129/150\n",
            "34/34 [==============================] - 3s 89ms/step - loss: 0.0746 - accuracy: 0.9981\n",
            "Epoch 130/150\n",
            "34/34 [==============================] - 3s 75ms/step - loss: 0.0712 - accuracy: 0.9981\n",
            "Epoch 131/150\n",
            "34/34 [==============================] - 3s 75ms/step - loss: 0.0677 - accuracy: 0.9991\n",
            "Epoch 132/150\n",
            "34/34 [==============================] - 3s 75ms/step - loss: 0.0655 - accuracy: 0.9991\n",
            "Epoch 133/150\n",
            "34/34 [==============================] - 3s 104ms/step - loss: 0.0608 - accuracy: 0.9991\n",
            "Epoch 134/150\n",
            "34/34 [==============================] - 3s 75ms/step - loss: 0.0580 - accuracy: 0.9991\n",
            "Epoch 135/150\n",
            "34/34 [==============================] - 3s 75ms/step - loss: 0.0551 - accuracy: 0.9991\n",
            "Epoch 136/150\n",
            "34/34 [==============================] - 3s 76ms/step - loss: 0.0547 - accuracy: 0.9981\n",
            "Epoch 137/150\n",
            "34/34 [==============================] - 3s 87ms/step - loss: 0.0514 - accuracy: 0.9991\n",
            "Epoch 138/150\n",
            "34/34 [==============================] - 3s 91ms/step - loss: 0.0490 - accuracy: 1.0000\n",
            "Epoch 139/150\n",
            "34/34 [==============================] - 3s 75ms/step - loss: 0.0460 - accuracy: 1.0000\n",
            "Epoch 140/150\n",
            "34/34 [==============================] - 3s 77ms/step - loss: 0.0436 - accuracy: 1.0000\n",
            "Epoch 141/150\n",
            "34/34 [==============================] - 3s 75ms/step - loss: 0.0413 - accuracy: 1.0000\n",
            "Epoch 142/150\n",
            "34/34 [==============================] - 3s 103ms/step - loss: 0.0407 - accuracy: 0.9991\n",
            "Epoch 143/150\n",
            "34/34 [==============================] - 3s 77ms/step - loss: 0.0385 - accuracy: 0.9991\n",
            "Epoch 144/150\n",
            "34/34 [==============================] - 3s 75ms/step - loss: 0.0366 - accuracy: 1.0000\n",
            "Epoch 145/150\n",
            "34/34 [==============================] - 3s 76ms/step - loss: 0.0347 - accuracy: 1.0000\n",
            "Epoch 146/150\n",
            "34/34 [==============================] - 3s 85ms/step - loss: 0.0360 - accuracy: 1.0000\n",
            "Epoch 147/150\n",
            "34/34 [==============================] - 3s 94ms/step - loss: 0.0361 - accuracy: 1.0000\n",
            "Epoch 148/150\n",
            "34/34 [==============================] - 3s 76ms/step - loss: 0.0325 - accuracy: 1.0000\n",
            "Epoch 149/150\n",
            "34/34 [==============================] - 3s 84ms/step - loss: 0.0314 - accuracy: 1.0000\n",
            "Epoch 150/150\n",
            "34/34 [==============================] - 3s 98ms/step - loss: 0.0346 - accuracy: 0.9981\n"
          ]
        }
      ]
    },
    {
      "cell_type": "code",
      "source": [
        "model.save('text_generate.h5')\n",
        "model = load_model('text_generate.h5')\n"
      ],
      "metadata": {
        "colab": {
          "base_uri": "https://localhost:8080/",
          "height": 537
        },
        "id": "fMve5z2cQBPL",
        "outputId": "aa78bdc8-2437-4f17-8236-ced47c1825be"
      },
      "execution_count": 24,
      "outputs": [
        {
          "output_type": "stream",
          "name": "stderr",
          "text": [
            "/usr/local/lib/python3.10/dist-packages/keras/src/engine/training.py:3103: UserWarning: You are saving your model as an HDF5 file via `model.save()`. This file format is considered legacy. We recommend using instead the native Keras format, e.g. `model.save('my_model.keras')`.\n",
            "  saving_api.save_model(\n"
          ]
        },
        {
          "output_type": "stream",
          "name": "stdout",
          "text": [
            "loss at epoch 1: 5.9434638023376465\n",
            "loss at epoch 150: 0.034568801522254944\n"
          ]
        },
        {
          "output_type": "execute_result",
          "data": {
            "text/plain": [
              "[<matplotlib.lines.Line2D at 0x7d812a268c10>]"
            ]
          },
          "metadata": {},
          "execution_count": 24
        },
        {
          "output_type": "display_data",
          "data": {
            "text/plain": [
              "<Figure size 640x480 with 1 Axes>"
            ],
            "image/png": "[encoded data removed]"
          },
          "metadata": {}
        }
      ]
    },
    {
      "cell_type": "code",
      "source": [
        "print(f\"loss at epoch 1: {record.history['loss'][0]}\")\n",
        "print(f\"loss at epoch 150: {record.history['loss'][149]}\")\n"
      ],
      "metadata": {
        "colab": {
          "base_uri": "https://localhost:8080/"
        },
        "id": "MC8TBeQ9Qara",
        "outputId": "2171996c-c30e-42b4-bd86-d16e3654c698"
      },
      "execution_count": 25,
      "outputs": [
        {
          "output_type": "stream",
          "name": "stdout",
          "text": [
            "loss at epoch 1: 5.9434638023376465\n",
            "loss at epoch 150: 0.034568801522254944\n"
          ]
        }
      ]
    },
    {
      "cell_type": "code",
      "source": [
        "plt.plot(record.history['loss'])"
      ],
      "metadata": {
        "colab": {
          "base_uri": "https://localhost:8080/",
          "height": 447
        },
        "id": "DgkZ-Z0GQbya",
        "outputId": "2b337f84-774d-421e-b987-b7cdfda34e0d"
      },
      "execution_count": 26,
      "outputs": [
        {
          "output_type": "execute_result",
          "data": {
            "text/plain": [
              "[<matplotlib.lines.Line2D at 0x7d812a1713f0>]"
            ]
          },
          "metadata": {},
          "execution_count": 26
        },
        {
          "output_type": "display_data",
          "data": {
            "text/plain": [
              "<Figure size 640x480 with 1 Axes>"
            ],
            "image/png": "[encoded data removed]"
          },
          "metadata": {}
        }
      ]
    },
    {
      "cell_type": "code",
      "source": [
        "from tensorflow.keras.models import Sequential\n",
        "\n",
        "def generate_text_seq(model,tokenizer,text_seq_length,seed_text,n_words):\n",
        "    if not isinstance(model, Sequential):\n",
        "        raise TypeError(\"Model must be a Sequential model\")\n",
        "\n",
        "    encoded = tokenizer.texts_to_sequences([seed_text])[0]\n",
        "    encoded = pad_sequences([encoded],maxlen = text_seq_length,truncating = 'pre')\n",
        "\n",
        "    y_predict = model.predict(encoded)[0]\n",
        "    predicted_words = \" \"\n",
        "\n",
        "    for i in range(n_words):\n",
        "        predicted_word = tokenizer.index_word[y_predict[i]]\n",
        "        predicted_words += \" \" + predicted_word\n",
        "\n",
        "    return predicted_words"
      ],
      "metadata": {
        "id": "u7ZahdqZQBBZ"
      },
      "execution_count": 29,
      "outputs": []
    },
    {
      "cell_type": "code",
      "source": [],
      "metadata": {
        "id": "vXgPjsr7SUJM"
      },
      "execution_count": null,
      "outputs": []
    },
    {
      "cell_type": "code",
      "source": [
        "def generate_text_seq(model, tokenizer, text_seq_length, seed_text, n_words):\n",
        "    # Initialize variables\n",
        "    output_text = []\n",
        "    input_text = seed_text\n",
        "\n",
        "    # Generate n_words words\n",
        "    for i in range(n_words):\n",
        "        # Convert the input text to a sequence\n",
        "        encoded_text = tokenizer.texts_to_sequences([input_text])[0]\n",
        "        encoded_text = pad_sequences([encoded_text], maxlen=text_seq_length, truncating='pre')\n",
        "\n",
        "        # Predict the next word\n",
        "        y_predict = model.predict(encoded_text)\n",
        "        predicted_word = tokenizer.index_word[np.argmax(y_predict)]\n",
        "\n",
        "        # Update the input text with the predicted word\n",
        "        input_text += \" \" + predicted_word\n",
        "\n",
        "        # Add the predicted word to the output text\n",
        "        output_text.append(predicted_word)\n",
        "\n",
        "    # Return the generated text\n",
        "    return \" \".join(output_text)\n"
      ],
      "metadata": {
        "id": "My5JuzAiSS4b"
      },
      "execution_count": 31,
      "outputs": []
    },
    {
      "cell_type": "code",
      "source": [
        "generate_text_seq(model,tokenizer,50,seed_text,100)"
      ],
      "metadata": {
        "colab": {
          "base_uri": "https://localhost:8080/",
          "height": 1000
        },
        "id": "spECRSRXQezg",
        "outputId": "c1db91c8-6cca-4783-c4fe-be9dc13ba50e"
      },
      "execution_count": 32,
      "outputs": [
        {
          "output_type": "stream",
          "name": "stdout",
          "text": [
            "1/1 [==============================] - 0s 50ms/step\n",
            "1/1 [==============================] - 0s 57ms/step\n",
            "1/1 [==============================] - 0s 52ms/step\n",
            "1/1 [==============================] - 0s 53ms/step\n",
            "1/1 [==============================] - 0s 55ms/step\n",
            "1/1 [==============================] - 0s 55ms/step\n",
            "1/1 [==============================] - 0s 56ms/step\n",
            "1/1 [==============================] - 0s 55ms/step\n",
            "1/1 [==============================] - 0s 67ms/step\n",
            "1/1 [==============================] - 0s 58ms/step\n",
            "1/1 [==============================] - 0s 60ms/step\n",
            "1/1 [==============================] - 0s 52ms/step\n",
            "1/1 [==============================] - 0s 66ms/step\n",
            "1/1 [==============================] - 0s 59ms/step\n",
            "1/1 [==============================] - 0s 58ms/step\n",
            "1/1 [==============================] - 0s 60ms/step\n",
            "1/1 [==============================] - 0s 37ms/step\n",
            "1/1 [==============================] - 0s 33ms/step\n",
            "1/1 [==============================] - 0s 34ms/step\n",
            "1/1 [==============================] - 0s 36ms/step\n",
            "1/1 [==============================] - 0s 34ms/step\n",
            "1/1 [==============================] - 0s 35ms/step\n",
            "1/1 [==============================] - 0s 38ms/step\n",
            "1/1 [==============================] - 0s 44ms/step\n",
            "1/1 [==============================] - 0s 33ms/step\n",
            "1/1 [==============================] - 0s 31ms/step\n",
            "1/1 [==============================] - 0s 33ms/step\n",
            "1/1 [==============================] - 0s 35ms/step\n",
            "1/1 [==============================] - 0s 33ms/step\n",
            "1/1 [==============================] - 0s 35ms/step\n",
            "1/1 [==============================] - 0s 36ms/step\n",
            "1/1 [==============================] - 0s 38ms/step\n",
            "1/1 [==============================] - 0s 34ms/step\n",
            "1/1 [==============================] - 0s 33ms/step\n",
            "1/1 [==============================] - 0s 34ms/step\n",
            "1/1 [==============================] - 0s 34ms/step\n",
            "1/1 [==============================] - 0s 33ms/step\n",
            "1/1 [==============================] - 0s 36ms/step\n",
            "1/1 [==============================] - 0s 39ms/step\n",
            "1/1 [==============================] - 0s 35ms/step\n",
            "1/1 [==============================] - 0s 34ms/step\n",
            "1/1 [==============================] - 0s 34ms/step\n",
            "1/1 [==============================] - 0s 36ms/step\n",
            "1/1 [==============================] - 0s 35ms/step\n",
            "1/1 [==============================] - 0s 34ms/step\n",
            "1/1 [==============================] - 0s 33ms/step\n",
            "1/1 [==============================] - 0s 33ms/step\n",
            "1/1 [==============================] - 0s 35ms/step\n",
            "1/1 [==============================] - 0s 34ms/step\n",
            "1/1 [==============================] - 0s 39ms/step\n",
            "1/1 [==============================] - 0s 32ms/step\n",
            "1/1 [==============================] - 0s 34ms/step\n",
            "1/1 [==============================] - 0s 33ms/step\n",
            "1/1 [==============================] - 0s 35ms/step\n",
            "1/1 [==============================] - 0s 33ms/step\n",
            "1/1 [==============================] - 0s 36ms/step\n",
            "1/1 [==============================] - 0s 35ms/step\n",
            "1/1 [==============================] - 0s 33ms/step\n",
            "1/1 [==============================] - 0s 35ms/step\n",
            "1/1 [==============================] - 0s 35ms/step\n",
            "1/1 [==============================] - 0s 34ms/step\n",
            "1/1 [==============================] - 0s 32ms/step\n",
            "1/1 [==============================] - 0s 35ms/step\n",
            "1/1 [==============================] - 0s 36ms/step\n",
            "1/1 [==============================] - 0s 32ms/step\n",
            "1/1 [==============================] - 0s 33ms/step\n",
            "1/1 [==============================] - 0s 35ms/step\n",
            "1/1 [==============================] - 0s 34ms/step\n",
            "1/1 [==============================] - 0s 37ms/step\n",
            "1/1 [==============================] - 0s 34ms/step\n",
            "1/1 [==============================] - 0s 33ms/step\n",
            "1/1 [==============================] - 0s 35ms/step\n",
            "1/1 [==============================] - 0s 34ms/step\n",
            "1/1 [==============================] - 0s 34ms/step\n",
            "1/1 [==============================] - 0s 36ms/step\n",
            "1/1 [==============================] - 0s 34ms/step\n",
            "1/1 [==============================] - 0s 32ms/step\n",
            "1/1 [==============================] - 0s 38ms/step\n",
            "1/1 [==============================] - 0s 34ms/step\n",
            "1/1 [==============================] - 0s 33ms/step\n",
            "1/1 [==============================] - 0s 37ms/step\n",
            "1/1 [==============================] - 0s 37ms/step\n",
            "1/1 [==============================] - 0s 33ms/step\n",
            "1/1 [==============================] - 0s 33ms/step\n",
            "1/1 [==============================] - 0s 34ms/step\n",
            "1/1 [==============================] - 0s 35ms/step\n",
            "1/1 [==============================] - 0s 39ms/step\n",
            "1/1 [==============================] - 0s 33ms/step\n",
            "1/1 [==============================] - 0s 32ms/step\n",
            "1/1 [==============================] - 0s 34ms/step\n",
            "1/1 [==============================] - 0s 31ms/step\n",
            "1/1 [==============================] - 0s 35ms/step\n",
            "1/1 [==============================] - 0s 37ms/step\n",
            "1/1 [==============================] - 0s 36ms/step\n",
            "1/1 [==============================] - 0s 34ms/step\n",
            "1/1 [==============================] - 0s 34ms/step\n",
            "1/1 [==============================] - 0s 37ms/step\n",
            "1/1 [==============================] - 0s 33ms/step\n",
            "1/1 [==============================] - 0s 34ms/step\n",
            "1/1 [==============================] - 0s 37ms/step\n"
          ]
        },
        {
          "output_type": "execute_result",
          "data": {
            "text/plain": [
              "'not just inspire me but also so many others to work harder to be better and to make a dent wherever we can so very very proud to be standing alongside you so in life you know there are moments when you stop and ask yourself did i get like am i standing well this is definitely one of those moments for me and i find myself going back to the beginning back to my roots i was born to incredible parents amazing parents who served as doctors in the indian army i was the first born and as far'"
            ],
            "application/vnd.google.colaboratory.intrinsic+json": {
              "type": "string"
            }
          },
          "metadata": {},
          "execution_count": 32
        }
      ]
    }
  ]
}