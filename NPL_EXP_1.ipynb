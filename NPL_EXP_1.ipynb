{
  "nbformat": 4,
  "nbformat_minor": 0,
  "metadata": {
    "colab": {
      "provenance": []
    },
    "kernelspec": {
      "name": "python3",
      "display_name": "Python 3"
    },
    "language_info": {
      "name": "python"
    }
  },
  "cells": [
    {
      "cell_type": "markdown",
      "source": [
        "##EX:1"
      ],
      "metadata": {
        "id": "IglzqiTsWsb1"
      }
    },
    {
      "cell_type": "markdown",
      "source": [
        " punkt : Includes trained models and resources required for tokenization tasks, such as splitting text into sentences."
      ],
      "metadata": {
        "id": "-jcs7EunVyQW"
      }
    },
    {
      "cell_type": "code",
      "source": [
        "#importing dependencies\n",
        "import nltk\n",
        "import re\n",
        "import spacy\n",
        "\n",
        "#Necessary resources for NLTK's Punkt tokenizer.\n",
        "nltk.download('punkt')\n",
        "\n",
        "from nltk.tokenize import sent_tokenize, word_tokenize\n",
        "from spacy.lang.en import English\n",
        "\n",
        "#load English\n",
        "nlp = English()\n",
        "\n",
        "#load txt file\n",
        "with open(\"doc.txt\", \"r\") as file:\n",
        "    text = file.read()\n",
        "\n",
        "#Sentences using NLTK\n",
        "sentences_nltk = sent_tokenize(text)\n",
        "\n",
        "print(\"Sentences (NLTK):\")    #print statement\n",
        "for sentence in sentences_nltk:\n",
        "    print(sentence)\n",
        "\n",
        "#Word tokenizer\n",
        "tokens_nltk = word_tokenize(text)\n",
        "\n",
        "print(\"\\nWords (NLTK):\")\n",
        "print(tokens_nltk)\n",
        "\n",
        "#Regular expressions\n",
        "tokens_regex = re.findall(r'\\b\\w+\\b', text)\n",
        "\n",
        "print(\"\\nWords (Regex):\")\n",
        "print(tokens_regex)\n",
        "\n",
        "#SpaCy\n",
        "doc = nlp(text)\n",
        "tokens_spacy = [token.text for token in doc if not token.is_space]\n",
        "\n",
        "print(\"\\nWords (spaCy):\")\n",
        "print(tokens_spacy)\n"
      ],
      "metadata": {
        "colab": {
          "base_uri": "https://localhost:8080/"
        },
        "id": "g3JQ49cmUOlg",
        "outputId": "3e79fb5e-d84a-4e96-872f-6bc1c849da0c"
      },
      "execution_count": 37,
      "outputs": [
        {
          "output_type": "stream",
          "name": "stdout",
          "text": [
            "Sentences (NLTK):\n",
            "My name is Meenu Patel.\n",
            "Kindness is not Firtling\n",
            "Attention is not Love\n",
            "Tears are not Weakness\n",
            "Selence is not Anger\n",
            "\n",
            "Words (NLTK):\n",
            "['My', 'name', 'is', 'Meenu', 'Patel', '.', 'Kindness', 'is', 'not', 'Firtling', 'Attention', 'is', 'not', 'Love', 'Tears', 'are', 'not', 'Weakness', 'Selence', 'is', 'not', 'Anger']\n",
            "\n",
            "Words (Regex):\n",
            "['My', 'name', 'is', 'Meenu', 'Patel', 'Kindness', 'is', 'not', 'Firtling', 'Attention', 'is', 'not', 'Love', 'Tears', 'are', 'not', 'Weakness', 'Selence', 'is', 'not', 'Anger']\n",
            "\n",
            "Words (spaCy):\n",
            "['My', 'name', 'is', 'Meenu', 'Patel', '.', 'Kindness', 'is', 'not', 'Firtling', 'Attention', 'is', 'not', 'Love', 'Tears', 'are', 'not', 'Weakness', 'Selence', 'is', 'not', 'Anger']\n"
          ]
        },
        {
          "output_type": "stream",
          "name": "stderr",
          "text": [
            "[nltk_data] Downloading package punkt to /root/nltk_data...\n",
            "[nltk_data]   Package punkt is already up-to-date!\n"
          ]
        }
      ]
    }
  ]
}